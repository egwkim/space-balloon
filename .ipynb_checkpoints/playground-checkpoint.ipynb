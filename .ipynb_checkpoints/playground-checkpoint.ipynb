{
 "cells": [
  {
   "cell_type": "code",
   "execution_count": null,
   "metadata": {},
   "outputs": [],
   "source": [
    "import xarray as xr\n",
    "import numpy as np\n",
    "import matplotlib.pyplot as plt\n",
    "import os\n",
    "\n",
    "import download_data\n",
    "import read_grib\n"
   ]
  },
  {
   "cell_type": "code",
   "execution_count": null,
   "metadata": {},
   "outputs": [],
   "source": [
    "# Create data directory if it does not exist\n",
    "if not os.path.exists('data'):\n",
    "    os.makedirs('data')\n",
    "\n",
    "# Download data\n",
    "try:\n",
    "    download_data.get_latest_data()\n",
    "except FileExistsError:\n",
    "    pass\n"
   ]
  },
  {
   "cell_type": "code",
   "execution_count": null,
   "metadata": {},
   "outputs": [],
   "source": [
    "# Open data file\n",
    "filepath = read_grib.get_recent_data_path()\n",
    "ds = xr.open_dataset(filepath, engine='cfgrib',\n",
    "                     backend_kwargs={'errors': 'ignore', 'indexpath': ''},\n",
    "                     filter_by_keys={'typeOfLevel': 'isobaricInhPa'})\n"
   ]
  },
  {
   "cell_type": "code",
   "execution_count": null,
   "metadata": {},
   "outputs": [],
   "source": [
    "# Select latitude and longitude\n",
    "ds = ds.sel(latitude=37.25, longitude=126.5)\n",
    "ds\n"
   ]
  },
  {
   "cell_type": "code",
   "execution_count": null,
   "metadata": {},
   "outputs": [],
   "source": [
    "# Geopotential height - Pressure graph\n",
    "plt.plot(ds['gh'], ds['isobaricInhPa'])\n"
   ]
  },
  {
   "cell_type": "code",
   "execution_count": null,
   "metadata": {},
   "outputs": [],
   "source": [
    "# Geopotential height - Temperature graph\n",
    "plt.plot(ds['gh'], ds['t'])\n"
   ]
  },
  {
   "cell_type": "code",
   "execution_count": null,
   "metadata": {},
   "outputs": [],
   "source": [
    "length = 49\n",
    "date, time = download_data.get_latest_data_time()\n",
    "f=[]\n",
    "for i in range(length):\n",
    "    try:\n",
    "        f.append(download_data.get_data(date=date,time=time,number=i))\n",
    "    except FileExistsError as e:\n",
    "        f.append(e.filename)\n"
   ]
  },
  {
   "cell_type": "code",
   "execution_count": null,
   "metadata": {},
   "outputs": [],
   "source": [
    "def least_squares(x_list, y_list):\n",
    "    \"\"\"\n",
    "    Get the linear function that best fits the given data.\n",
    "    y = ax + b\n",
    "    Returns (a, b)\n",
    "    \"\"\"\n",
    "    n = len(x_list)\n",
    "    if len(y_list) != n:\n",
    "        raise ValueError('Lengths of x_list and y_list do not match.')\n",
    "    x = sum(x_list)\n",
    "    xx = sum(x*x for x in x_list)\n",
    "    y = sum(y_list)\n",
    "    # yy = sum(y*y for y in y_list)\n",
    "    xy = sum(x*y for x, y in zip(x_list, y_list))\n",
    "    a = (xy - x*y/n) / (xx - x*x/n)\n",
    "    b = (y - a*x) / n\n",
    "    return (a, b)\n"
   ]
  },
  {
   "cell_type": "code",
   "execution_count": null,
   "metadata": {},
   "outputs": [],
   "source": [
    "import matplotlib.animation as animation\n",
    "from matplotlib import rc\n",
    "rc('animation', html='html5')\n",
    "\n",
    "fig = plt.figure()\n",
    "ax = fig.add_subplot(xlim=(0,50000),ylim=(200,310))\n",
    "line1, = ax.plot([],[],'-')\n",
    "line2, = ax.plot([],[],'-')\n",
    "text1 = ax.text(0.05, 0.9, '', transform=ax.transAxes)\n",
    "text2 = ax.text(0.05, 0.8, '', transform=ax.transAxes)\n",
    "plt.close()\n",
    "\n",
    "a_list = []\n",
    "b_list = []\n",
    "time_list = []\n",
    "\n",
    "def animate(frame):\n",
    "    ds = xr.open_dataset(f[frame],\n",
    "                         engine='cfgrib',\n",
    "                         backend_kwargs={'indexpath': ''})\n",
    "    ds = ds.sel(latitude=37.25, longitude=126.5)\n",
    "    line1.set_data(ds['gh'], ds['t'])\n",
    "    \n",
    "    a,b=least_squares(ds['gh'].values[:15], ds['t'].values[:15])\n",
    "    a_list.append(a)\n",
    "    b_list.append(b)\n",
    "    line2.set_data([0,-b/a],[b,0])\n",
    "    \n",
    "    time = ds['valid_time'].values\n",
    "    time_list.append(time)\n",
    "    text1.set_text(np.datetime_as_string(time, unit='h', timezone='local'))\n",
    "    text2.set_text(f'T(h) = {a:.6f}h + {b:.6f}')\n",
    "    return line1, line2, text1, text2\n",
    "\n",
    "ani = animation.FuncAnimation(fig, animate, frames=range(length), interval=250, blit=False, repeat=False)\n",
    "ani\n"
   ]
  },
  {
   "cell_type": "code",
   "execution_count": null,
   "metadata": {},
   "outputs": [],
   "source": [
    "plt.plot(time_list, a_list)\n",
    "plt.xticks(rotation=45)\n",
    "plt.show()\n"
   ]
  },
  {
   "cell_type": "code",
   "execution_count": null,
   "metadata": {},
   "outputs": [],
   "source": [
    "plt.plot(time_list, b_list)\n",
    "plt.xticks(rotation=45)\n",
    "plt.show()\n"
   ]
  },
  {
   "cell_type": "code",
   "execution_count": null,
   "metadata": {},
   "outputs": [],
   "source": []
  }
 ],
 "metadata": {
  "kernelspec": {
   "display_name": "Python 3 (ipykernel)",
   "language": "python",
   "name": "python3"
  },
  "language_info": {
   "codemirror_mode": {
    "name": "ipython",
    "version": 3
   },
   "file_extension": ".py",
   "mimetype": "text/x-python",
   "name": "python",
   "nbconvert_exporter": "python",
   "pygments_lexer": "ipython3",
   "version": "3.10.5"
  },
  "vscode": {
   "interpreter": {
    "hash": "d7c73dd920c6573e411594384ce4a822694bf5add828b4fa26cc3aa65cd8af1d"
   }
  }
 },
 "nbformat": 4,
 "nbformat_minor": 2
}
