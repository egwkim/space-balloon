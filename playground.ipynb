{
 "cells": [
  {
   "cell_type": "code",
   "execution_count": null,
   "metadata": {},
   "outputs": [],
   "source": [
    "import xarray as xr\n",
    "import matplotlib.pyplot as plt\n",
    "import os\n",
    "\n",
    "import download_data\n",
    "import read_grib\n"
   ]
  },
  {
   "cell_type": "code",
   "execution_count": null,
   "metadata": {},
   "outputs": [],
   "source": [
    "# Create data directory if it does not exist\n",
    "if not os.path.exists('data'):\n",
    "    os.makedirs('data')\n",
    "\n",
    "# Download data\n",
    "download_data.get_latest_data()\n"
   ]
  },
  {
   "cell_type": "code",
   "execution_count": null,
   "metadata": {},
   "outputs": [],
   "source": [
    "# Open data file\n",
    "filepath = read_grib.get_recent_data_path()\n",
    "ds = xr.open_dataset(filepath, engine='cfgrib',\n",
    "                     backend_kwargs={'errors': 'ignore', 'indexpath': ''},\n",
    "                     filter_by_keys={'typeOfLevel': 'isobaricInhPa'})\n"
   ]
  },
  {
   "cell_type": "code",
   "execution_count": null,
   "metadata": {},
   "outputs": [],
   "source": [
    "# Select latitude and longitude\n",
    "ds = ds.sel(latitude=37.25, longitude=126.5)\n",
    "ds\n"
   ]
  },
  {
   "cell_type": "code",
   "execution_count": null,
   "metadata": {},
   "outputs": [],
   "source": [
    "# Geopotential height - Pressure graph\n",
    "plt.plot(ds['gh'], ds['isobaricInhPa'])\n"
   ]
  },
  {
   "cell_type": "code",
   "execution_count": null,
   "metadata": {},
   "outputs": [],
   "source": [
    "# Geopotential height - Temperature graph\n",
    "plt.plot(ds['gh'], ds['t'])\n"
   ]
  },
  {
   "cell_type": "code",
   "execution_count": null,
   "metadata": {},
   "outputs": [],
   "source": []
  }
 ],
 "metadata": {
  "kernelspec": {
   "display_name": "Python 3.10.5 ('.venv': venv)",
   "language": "python",
   "name": "python3"
  },
  "language_info": {
   "codemirror_mode": {
    "name": "ipython",
    "version": 3
   },
   "file_extension": ".py",
   "mimetype": "text/x-python",
   "name": "python",
   "nbconvert_exporter": "python",
   "pygments_lexer": "ipython3",
   "version": "3.10.5"
  },
  "orig_nbformat": 4,
  "vscode": {
   "interpreter": {
    "hash": "d7c73dd920c6573e411594384ce4a822694bf5add828b4fa26cc3aa65cd8af1d"
   }
  }
 },
 "nbformat": 4,
 "nbformat_minor": 2
}
